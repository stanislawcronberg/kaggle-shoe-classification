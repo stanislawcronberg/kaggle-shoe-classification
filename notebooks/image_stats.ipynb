{
 "cells": [
  {
   "cell_type": "code",
   "execution_count": 1,
   "metadata": {},
   "outputs": [],
   "source": [
    "import os\n",
    "\n",
    "os.chdir(\"..\")"
   ]
  },
  {
   "cell_type": "code",
   "execution_count": 2,
   "metadata": {},
   "outputs": [
    {
     "data": {
      "text/html": [
       "<div>\n",
       "<style scoped>\n",
       "    .dataframe tbody tr th:only-of-type {\n",
       "        vertical-align: middle;\n",
       "    }\n",
       "\n",
       "    .dataframe tbody tr th {\n",
       "        vertical-align: top;\n",
       "    }\n",
       "\n",
       "    .dataframe thead th {\n",
       "        text-align: right;\n",
       "    }\n",
       "</style>\n",
       "<table border=\"1\" class=\"dataframe\">\n",
       "  <thead>\n",
       "    <tr style=\"text-align: right;\">\n",
       "      <th></th>\n",
       "      <th>image_path</th>\n",
       "      <th>label</th>\n",
       "    </tr>\n",
       "  </thead>\n",
       "  <tbody>\n",
       "    <tr>\n",
       "      <th>0</th>\n",
       "      <td>data/sandal/Sandal (1277).jpg</td>\n",
       "      <td>sandal</td>\n",
       "    </tr>\n",
       "    <tr>\n",
       "      <th>1</th>\n",
       "      <td>data/sandal/Sandal (616).jpg</td>\n",
       "      <td>sandal</td>\n",
       "    </tr>\n",
       "    <tr>\n",
       "      <th>2</th>\n",
       "      <td>data/sandal/Sandal (3222).jpg</td>\n",
       "      <td>sandal</td>\n",
       "    </tr>\n",
       "    <tr>\n",
       "      <th>3</th>\n",
       "      <td>data/sandal/Sandal (4713).jpg</td>\n",
       "      <td>sandal</td>\n",
       "    </tr>\n",
       "    <tr>\n",
       "      <th>4</th>\n",
       "      <td>data/sandal/Sandal (866).jpg</td>\n",
       "      <td>sandal</td>\n",
       "    </tr>\n",
       "  </tbody>\n",
       "</table>\n",
       "</div>"
      ],
      "text/plain": [
       "                      image_path   label\n",
       "0  data/sandal/Sandal (1277).jpg  sandal\n",
       "1   data/sandal/Sandal (616).jpg  sandal\n",
       "2  data/sandal/Sandal (3222).jpg  sandal\n",
       "3  data/sandal/Sandal (4713).jpg  sandal\n",
       "4   data/sandal/Sandal (866).jpg  sandal"
      ]
     },
     "execution_count": 2,
     "metadata": {},
     "output_type": "execute_result"
    }
   ],
   "source": [
    "import pandas as pd\n",
    "import numpy as np\n",
    "import cv2 as cv\n",
    "\n",
    "df = pd.read_csv(\"data/index/full.csv\")\n",
    "df.head()"
   ]
  },
  {
   "cell_type": "markdown",
   "metadata": {},
   "source": [
    "Using `opencv` to read the images, we add two new columns to the dataframe for the height and width of each image"
   ]
  },
  {
   "cell_type": "code",
   "execution_count": 3,
   "metadata": {},
   "outputs": [
    {
     "data": {
      "text/html": [
       "<div>\n",
       "<style scoped>\n",
       "    .dataframe tbody tr th:only-of-type {\n",
       "        vertical-align: middle;\n",
       "    }\n",
       "\n",
       "    .dataframe tbody tr th {\n",
       "        vertical-align: top;\n",
       "    }\n",
       "\n",
       "    .dataframe thead th {\n",
       "        text-align: right;\n",
       "    }\n",
       "</style>\n",
       "<table border=\"1\" class=\"dataframe\">\n",
       "  <thead>\n",
       "    <tr style=\"text-align: right;\">\n",
       "      <th></th>\n",
       "      <th>image_path</th>\n",
       "      <th>label</th>\n",
       "      <th>height</th>\n",
       "      <th>width</th>\n",
       "    </tr>\n",
       "  </thead>\n",
       "  <tbody>\n",
       "    <tr>\n",
       "      <th>0</th>\n",
       "      <td>data/sandal/Sandal (1277).jpg</td>\n",
       "      <td>sandal</td>\n",
       "      <td>102</td>\n",
       "      <td>136</td>\n",
       "    </tr>\n",
       "    <tr>\n",
       "      <th>1</th>\n",
       "      <td>data/sandal/Sandal (616).jpg</td>\n",
       "      <td>sandal</td>\n",
       "      <td>102</td>\n",
       "      <td>136</td>\n",
       "    </tr>\n",
       "    <tr>\n",
       "      <th>2</th>\n",
       "      <td>data/sandal/Sandal (3222).jpg</td>\n",
       "      <td>sandal</td>\n",
       "      <td>102</td>\n",
       "      <td>136</td>\n",
       "    </tr>\n",
       "    <tr>\n",
       "      <th>3</th>\n",
       "      <td>data/sandal/Sandal (4713).jpg</td>\n",
       "      <td>sandal</td>\n",
       "      <td>102</td>\n",
       "      <td>136</td>\n",
       "    </tr>\n",
       "    <tr>\n",
       "      <th>4</th>\n",
       "      <td>data/sandal/Sandal (866).jpg</td>\n",
       "      <td>sandal</td>\n",
       "      <td>102</td>\n",
       "      <td>136</td>\n",
       "    </tr>\n",
       "  </tbody>\n",
       "</table>\n",
       "</div>"
      ],
      "text/plain": [
       "                      image_path   label  height  width\n",
       "0  data/sandal/Sandal (1277).jpg  sandal     102    136\n",
       "1   data/sandal/Sandal (616).jpg  sandal     102    136\n",
       "2  data/sandal/Sandal (3222).jpg  sandal     102    136\n",
       "3  data/sandal/Sandal (4713).jpg  sandal     102    136\n",
       "4   data/sandal/Sandal (866).jpg  sandal     102    136"
      ]
     },
     "execution_count": 3,
     "metadata": {},
     "output_type": "execute_result"
    }
   ],
   "source": [
    "image_paths = df[\"image_path\"].values\n",
    "labels = df[\"label\"].values\n",
    "\n",
    "# Create a numpy array of image sizes\n",
    "image_sizes = np.zeros((len(image_paths), 2), dtype=int)\n",
    "for i, image_path in enumerate(image_paths):\n",
    "    image = cv.imread(image_path)\n",
    "    image_sizes[i] = image.shape[:2]\n",
    "    \n",
    "# Add height and width columns to the dataframe\n",
    "df[\"height\"] = image_sizes[:, 0]\n",
    "df[\"width\"] = image_sizes[:, 1]\n",
    "\n",
    "# Quick inspection of the modified dataframe\n",
    "df.head()"
   ]
  },
  {
   "cell_type": "markdown",
   "metadata": {},
   "source": [
    "A quick inspection shows that the image sizes are consistent across the dataset"
   ]
  },
  {
   "cell_type": "code",
   "execution_count": 4,
   "metadata": {},
   "outputs": [
    {
     "name": "stdout",
     "output_type": "stream",
     "text": [
      "Mean height: 102.0000\n",
      "Std height: 0.0000\n",
      "\n",
      "Mean width: 135.9999\n",
      "Std width: 0.0115\n"
     ]
    }
   ],
   "source": [
    "# Get the mean and standard deviation of the image sizes with 2 decimal places\n",
    "print(f\"Mean height: {df['height'].mean():.4f}\")\n",
    "print(f\"Std height: {df['height'].std():.4f}\\n\")\n",
    "\n",
    "print(f\"Mean width: {df['width'].mean():.4f}\")\n",
    "print(f\"Std width: {df['width'].std():.4f}\")"
   ]
  }
 ],
 "metadata": {
  "kernelspec": {
   "display_name": "Python 3.10.6 ('light')",
   "language": "python",
   "name": "python3"
  },
  "language_info": {
   "codemirror_mode": {
    "name": "ipython",
    "version": 3
   },
   "file_extension": ".py",
   "mimetype": "text/x-python",
   "name": "python",
   "nbconvert_exporter": "python",
   "pygments_lexer": "ipython3",
   "version": "3.10.6"
  },
  "orig_nbformat": 4,
  "vscode": {
   "interpreter": {
    "hash": "0caad9658447bef7c94fce2d6be3036fb11146157d92b77a9a04c8ee8f13d68a"
   }
  }
 },
 "nbformat": 4,
 "nbformat_minor": 2
}
